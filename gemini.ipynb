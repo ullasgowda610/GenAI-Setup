{
 "cells": [
  {
   "cell_type": "code",
   "execution_count": 10,
   "id": "0899dc64",
   "metadata": {},
   "outputs": [
    {
     "name": "stdout",
     "output_type": "stream",
     "text": [
      "Requirement already satisfied: google-generativeai in c:\\users\\ullas\\anaconda3\\lib\\site-packages (0.8.5)\n",
      "Requirement already satisfied: google-ai-generativelanguage==0.6.15 in c:\\users\\ullas\\anaconda3\\lib\\site-packages (from google-generativeai) (0.6.15)\n",
      "Requirement already satisfied: google-api-core in c:\\users\\ullas\\anaconda3\\lib\\site-packages (from google-generativeai) (2.25.1)\n",
      "Requirement already satisfied: google-api-python-client in c:\\users\\ullas\\anaconda3\\lib\\site-packages (from google-generativeai) (2.181.0)\n",
      "Requirement already satisfied: google-auth>=2.15.0 in c:\\users\\ullas\\anaconda3\\lib\\site-packages (from google-generativeai) (2.40.3)\n",
      "Requirement already satisfied: protobuf in c:\\users\\ullas\\anaconda3\\lib\\site-packages (from google-generativeai) (5.29.5)\n",
      "Requirement already satisfied: pydantic in c:\\users\\ullas\\anaconda3\\lib\\site-packages (from google-generativeai) (2.8.2)\n",
      "Requirement already satisfied: tqdm in c:\\users\\ullas\\anaconda3\\lib\\site-packages (from google-generativeai) (4.66.5)\n",
      "Requirement already satisfied: typing-extensions in c:\\users\\ullas\\anaconda3\\lib\\site-packages (from google-generativeai) (4.11.0)\n",
      "Requirement already satisfied: proto-plus<2.0.0dev,>=1.22.3 in c:\\users\\ullas\\anaconda3\\lib\\site-packages (from google-ai-generativelanguage==0.6.15->google-generativeai) (1.26.1)\n",
      "Requirement already satisfied: googleapis-common-protos<2.0.0,>=1.56.2 in c:\\users\\ullas\\anaconda3\\lib\\site-packages (from google-api-core->google-generativeai) (1.70.0)\n",
      "Requirement already satisfied: requests<3.0.0,>=2.18.0 in c:\\users\\ullas\\anaconda3\\lib\\site-packages (from google-api-core->google-generativeai) (2.32.3)\n",
      "Requirement already satisfied: cachetools<6.0,>=2.0.0 in c:\\users\\ullas\\anaconda3\\lib\\site-packages (from google-auth>=2.15.0->google-generativeai) (5.3.3)\n",
      "Requirement already satisfied: pyasn1-modules>=0.2.1 in c:\\users\\ullas\\anaconda3\\lib\\site-packages (from google-auth>=2.15.0->google-generativeai) (0.2.8)\n",
      "Requirement already satisfied: rsa<5,>=3.1.4 in c:\\users\\ullas\\anaconda3\\lib\\site-packages (from google-auth>=2.15.0->google-generativeai) (4.9.1)\n",
      "Requirement already satisfied: httplib2<1.0.0,>=0.19.0 in c:\\users\\ullas\\anaconda3\\lib\\site-packages (from google-api-python-client->google-generativeai) (0.31.0)\n",
      "Requirement already satisfied: google-auth-httplib2<1.0.0,>=0.2.0 in c:\\users\\ullas\\anaconda3\\lib\\site-packages (from google-api-python-client->google-generativeai) (0.2.0)\n",
      "Requirement already satisfied: uritemplate<5,>=3.0.1 in c:\\users\\ullas\\anaconda3\\lib\\site-packages (from google-api-python-client->google-generativeai) (4.2.0)\n",
      "Requirement already satisfied: annotated-types>=0.4.0 in c:\\users\\ullas\\anaconda3\\lib\\site-packages (from pydantic->google-generativeai) (0.6.0)\n",
      "Requirement already satisfied: pydantic-core==2.20.1 in c:\\users\\ullas\\anaconda3\\lib\\site-packages (from pydantic->google-generativeai) (2.20.1)\n",
      "Requirement already satisfied: colorama in c:\\users\\ullas\\anaconda3\\lib\\site-packages (from tqdm->google-generativeai) (0.4.6)\n",
      "Requirement already satisfied: grpcio<2.0.0,>=1.33.2 in c:\\users\\ullas\\anaconda3\\lib\\site-packages (from google-api-core[grpc]!=2.0.*,!=2.1.*,!=2.10.*,!=2.2.*,!=2.3.*,!=2.4.*,!=2.5.*,!=2.6.*,!=2.7.*,!=2.8.*,!=2.9.*,<3.0.0dev,>=1.34.1->google-ai-generativelanguage==0.6.15->google-generativeai) (1.74.0)\n",
      "Requirement already satisfied: grpcio-status<2.0.0,>=1.33.2 in c:\\users\\ullas\\anaconda3\\lib\\site-packages (from google-api-core[grpc]!=2.0.*,!=2.1.*,!=2.10.*,!=2.2.*,!=2.3.*,!=2.4.*,!=2.5.*,!=2.6.*,!=2.7.*,!=2.8.*,!=2.9.*,<3.0.0dev,>=1.34.1->google-ai-generativelanguage==0.6.15->google-generativeai) (1.71.2)\n",
      "Requirement already satisfied: pyparsing<4,>=3.0.4 in c:\\users\\ullas\\anaconda3\\lib\\site-packages (from httplib2<1.0.0,>=0.19.0->google-api-python-client->google-generativeai) (3.1.2)\n",
      "Requirement already satisfied: pyasn1<0.5.0,>=0.4.6 in c:\\users\\ullas\\anaconda3\\lib\\site-packages (from pyasn1-modules>=0.2.1->google-auth>=2.15.0->google-generativeai) (0.4.8)\n",
      "Requirement already satisfied: charset-normalizer<4,>=2 in c:\\users\\ullas\\anaconda3\\lib\\site-packages (from requests<3.0.0,>=2.18.0->google-api-core->google-generativeai) (3.3.2)\n",
      "Requirement already satisfied: idna<4,>=2.5 in c:\\users\\ullas\\anaconda3\\lib\\site-packages (from requests<3.0.0,>=2.18.0->google-api-core->google-generativeai) (3.7)\n",
      "Requirement already satisfied: urllib3<3,>=1.21.1 in c:\\users\\ullas\\anaconda3\\lib\\site-packages (from requests<3.0.0,>=2.18.0->google-api-core->google-generativeai) (2.2.3)\n",
      "Requirement already satisfied: certifi>=2017.4.17 in c:\\users\\ullas\\anaconda3\\lib\\site-packages (from requests<3.0.0,>=2.18.0->google-api-core->google-generativeai) (2024.8.30)\n",
      "Note: you may need to restart the kernel to use updated packages.\n"
     ]
    }
   ],
   "source": [
    "pip install google-generativeai"
   ]
  },
  {
   "cell_type": "markdown",
   "id": "b4cba25c",
   "metadata": {},
   "source": [
    "## Requriments"
   ]
  },
  {
   "cell_type": "code",
   "execution_count": 11,
   "id": "deecf226",
   "metadata": {},
   "outputs": [],
   "source": [
    "import google.generativeai as genai\n",
    "import os"
   ]
  },
  {
   "cell_type": "code",
   "execution_count": 12,
   "id": "b4404fe6",
   "metadata": {},
   "outputs": [],
   "source": [
    "api = os.getenv('GOOGLE_API_KEY')"
   ]
  },
  {
   "cell_type": "markdown",
   "id": "04b9f7e2",
   "metadata": {},
   "source": [
    "### List of all the model versions that support content generation."
   ]
  },
  {
   "cell_type": "code",
   "execution_count": 13,
   "id": "0c6bb0a4",
   "metadata": {},
   "outputs": [
    {
     "name": "stdout",
     "output_type": "stream",
     "text": [
      "models/gemini-1.5-pro-latest\n",
      "models/gemini-1.5-pro-002\n",
      "models/gemini-1.5-pro\n",
      "models/gemini-1.5-flash-latest\n",
      "models/gemini-1.5-flash\n",
      "models/gemini-1.5-flash-002\n",
      "models/gemini-1.5-flash-8b\n",
      "models/gemini-1.5-flash-8b-001\n",
      "models/gemini-1.5-flash-8b-latest\n",
      "models/gemini-2.5-pro-preview-03-25\n",
      "models/gemini-2.5-flash-preview-05-20\n",
      "models/gemini-2.5-flash\n",
      "models/gemini-2.5-flash-lite-preview-06-17\n",
      "models/gemini-2.5-pro-preview-05-06\n",
      "models/gemini-2.5-pro-preview-06-05\n",
      "models/gemini-2.5-pro\n",
      "models/gemini-2.0-flash-exp\n",
      "models/gemini-2.0-flash\n",
      "models/gemini-2.0-flash-001\n",
      "models/gemini-2.0-flash-exp-image-generation\n",
      "models/gemini-2.0-flash-lite-001\n",
      "models/gemini-2.0-flash-lite\n",
      "models/gemini-2.0-flash-preview-image-generation\n",
      "models/gemini-2.0-flash-lite-preview-02-05\n",
      "models/gemini-2.0-flash-lite-preview\n",
      "models/gemini-2.0-pro-exp\n",
      "models/gemini-2.0-pro-exp-02-05\n",
      "models/gemini-exp-1206\n",
      "models/gemini-2.0-flash-thinking-exp-01-21\n",
      "models/gemini-2.0-flash-thinking-exp\n",
      "models/gemini-2.0-flash-thinking-exp-1219\n",
      "models/gemini-2.5-flash-preview-tts\n",
      "models/gemini-2.5-pro-preview-tts\n",
      "models/learnlm-2.0-flash-experimental\n",
      "models/gemma-3-1b-it\n",
      "models/gemma-3-4b-it\n",
      "models/gemma-3-12b-it\n",
      "models/gemma-3-27b-it\n",
      "models/gemma-3n-e4b-it\n",
      "models/gemma-3n-e2b-it\n",
      "models/gemini-2.5-flash-lite\n",
      "models/gemini-2.5-flash-image-preview\n"
     ]
    }
   ],
   "source": [
    "for m in genai.list_models():\n",
    "    if 'generateContent' in m.supported_generation_methods:\n",
    "        print(m.name)"
   ]
  },
  {
   "cell_type": "markdown",
   "id": "48aacd4b",
   "metadata": {},
   "source": [
    "### Generate a content from Gemini Model"
   ]
  },
  {
   "cell_type": "code",
   "execution_count": 14,
   "id": "f8510c15",
   "metadata": {},
   "outputs": [],
   "source": [
    "genai.configure(api_key=api)"
   ]
  },
  {
   "cell_type": "code",
   "execution_count": 15,
   "id": "38dc6936",
   "metadata": {},
   "outputs": [],
   "source": [
    "model=genai.GenerativeModel('gemini-2.5-flash-lite')"
   ]
  },
  {
   "cell_type": "code",
   "execution_count": 16,
   "id": "75a7cb3c",
   "metadata": {},
   "outputs": [],
   "source": [
    "prompt='''Assume you are a sports expert.prepare a summary on MS Dhoni's carrer.Include all the key achivements and statistics.Generate output in bullent points.'''"
   ]
  },
  {
   "cell_type": "code",
   "execution_count": 17,
   "id": "bf21189e",
   "metadata": {},
   "outputs": [],
   "source": [
    "response=model.generate_content(prompt)"
   ]
  },
  {
   "cell_type": "code",
   "execution_count": 18,
   "id": "7819a465",
   "metadata": {},
   "outputs": [
    {
     "name": "stdout",
     "output_type": "stream",
     "text": [
      "## MS Dhoni's Illustrious Career: A Summary\n",
      "\n",
      "Here's a summary of MS Dhoni's remarkable career, highlighting his key achievements and statistics, presented as bullet points:\n",
      "\n",
      "**Captaincy & Leadership:**\n",
      "\n",
      "*   **Most Successful Indian Captain:** Led India to win all three major ICC limited-overs trophies:\n",
      "    *   2007 ICC World Twenty20\n",
      "    *   2011 Cricket World Cup\n",
      "    *   2013 ICC Champions Trophy\n",
      "*   **Only Captain to Achieve This Hat-trick:** The only captain in cricket history to win all three major ICC limited-overs tournaments.\n",
      "*   **Record Number of ODI Captaincies:** Captained India in a record 200 One Day Internationals (ODIs).\n",
      "*   **Record Number of T20I Captaincies:** Captained India in a record 72 Twenty20 Internationals (T20Is).\n",
      "*   **Most T20I Wins as Captain:** Holds the record for the most T20I wins as captain (41).\n",
      "*   **IPL Dominance:** Captained Chennai Super Kings (CSK) to **five Indian Premier League (IPL) titles (2010, 2011, 2018, 2021, 2023)**, the most by any captain.\n",
      "*   **Champions League T20 Success:** Led CSK to **two Champions League T20 titles (2010, 2014)**.\n",
      "*   **Calm Under Pressure:** Renowned for his incredible composure and strategic acumen in high-pressure situations, particularly in close finishes.\n",
      "\n",
      "**Batting Prowess:**\n",
      "\n",
      "*   **Finisher Extraordinaire:** Widely regarded as one of the greatest finishers in the history of limited-overs cricket.\n",
      "*   **Prolific Run-Scorer:** Amassed significant runs across all formats.\n",
      "*   **ODI Statistics:**\n",
      "    *   **350 ODIs**\n",
      "    *   **10,773 Runs** (fourth-highest for India)\n",
      "    *   **6 Centuries**\n",
      "    *   **107 Half-centuries**\n",
      "    *   **Highest Score: 183\\* vs Pakistan**\n",
      "    *   **Strike Rate:** Impressive strike rate for his era, especially in the death overs.\n",
      "*   **T20I Statistics:**\n",
      "    *   **98 T20Is**\n",
      "    *   **1,617 Runs**\n",
      "    *   **2 Half-centuries**\n",
      "    *   **Highest Score: 68\\* vs Sri Lanka**\n",
      "*   **Test Statistics:**\n",
      "    *   **90 Test Matches**\n",
      "    *   **4,876 Runs**\n",
      "    *   **6 Centuries**\n",
      "    *   **33 Half-centuries**\n",
      "    *   **Highest Score: 224 vs Australia**\n",
      "*   **Record for Most Sixes by an Indian Wicketkeeper in ODIs:** A testament to his explosive hitting.\n",
      "\n",
      "**Wicketkeeping Excellence:**\n",
      "\n",
      "*   **One of the Best Glovemen:** Considered one of the finest wicketkeepers in modern cricket, known for his lightning-fast stumpings.\n",
      "*   **Record Number of Stumpings in ODIs:** Holds the world record for the most stumpings by a wicketkeeper in ODIs (123).\n",
      "*   **Record Number of Stumpings in International Cricket:** Holds the world record for the most stumpings across all international formats (203).\n",
      "*   **Exceptional Catching Record:** Consistently took crucial catches throughout his career.\n",
      "\n",
      "**Individual Accolades and Records:**\n",
      "\n",
      "*   **ICC ODI Player of the Year:** Won the award twice (2008, 2009).\n",
      "*   **ICC Spirit of Cricket Award:** Received in 2011.\n",
      "*   **Most Dismissals by a Wicketkeeper in ODIs:** Holds the record for the most dismissals (catches + stumpings) by a wicketkeeper in ODIs (829).\n",
      "*   **Most Catches by an Indian Wicketkeeper in ODIs:** Holds this record as well.\n",
      "*   **First Player to Score 10,000 ODI Runs as a Wicketkeeper:** A remarkable achievement.\n",
      "*   **Fastest to 10,000 ODI Runs for India:** Achieved this milestone in his career.\n",
      "*   **Rajiv Gandhi Khel Ratna Award:** The highest sporting honor in India, received in 2007.\n",
      "*   **Padma Shri:** India's fourth-highest civilian honor, received in 2009.\n",
      "*   **Padma Bhushan:** India's third-highest civilian honor, received in 2018.\n",
      "\n",
      "**Retirement and Legacy:**\n",
      "\n",
      "*   **Retired from International Cricket:** Announced his retirement from ODIs and T20Is on August 15, 2020.\n",
      "*   **Continues to Play in IPL:** Remains an active and influential player for Chennai Super Kings in the IPL.\n",
      "*   **Inspiration to Millions:** A global icon who inspired a generation of cricketers and fans with his humility, dedication, and unparalleled leadership.\n",
      "*   **\"Captain Cool\":** Earned this moniker for his unflappable demeanor on the field.\n",
      "*   **The \"Helicopter Shot\":** Popularized a unique and devastating batting shot.\n",
      "\n",
      "MS Dhoni's career is a testament to his extraordinary talent, unwavering dedication, and remarkable leadership, leaving an indelible mark on the sport of cricket.\n"
     ]
    }
   ],
   "source": [
    "print(response.text)"
   ]
  },
  {
   "cell_type": "code",
   "execution_count": null,
   "id": "0864cda9",
   "metadata": {},
   "outputs": [],
   "source": []
  }
 ],
 "metadata": {
  "kernelspec": {
   "display_name": "base",
   "language": "python",
   "name": "python3"
  },
  "language_info": {
   "codemirror_mode": {
    "name": "ipython",
    "version": 3
   },
   "file_extension": ".py",
   "mimetype": "text/x-python",
   "name": "python",
   "nbconvert_exporter": "python",
   "pygments_lexer": "ipython3",
   "version": "3.12.7"
  }
 },
 "nbformat": 4,
 "nbformat_minor": 5
}
